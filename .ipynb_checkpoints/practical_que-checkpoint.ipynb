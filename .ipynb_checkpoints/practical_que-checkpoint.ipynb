{
 "cells": [
  {
   "cell_type": "markdown",
   "id": "890e7417-0c14-44e5-bdc7-783bc9f64435",
   "metadata": {},
   "source": [
    "#        PRACTICAL QUESTIONS"
   ]
  },
  {
   "cell_type": "markdown",
   "id": "42b19688-471f-462e-8408-05895afd6781",
   "metadata": {},
   "source": [
    "1. Write a Python function that takes a list of numbers as input and returns the sum of all even numbers in\n",
    "the list"
   ]
  },
  {
   "cell_type": "code",
   "execution_count": 7,
   "id": "9f2b092c-de15-4439-9cc6-0ed7052d4ec9",
   "metadata": {},
   "outputs": [
    {
     "data": {
      "text/plain": [
       "1218"
      ]
     },
     "execution_count": 7,
     "metadata": {},
     "output_type": "execute_result"
    }
   ],
   "source": [
    "#solution 1\n",
    "l = [234,965,984,357,839]      #given list of numbers\n",
    "from functools import reduce\n",
    "lst = list(filter(lambda x:x%2 == 0,l))\n",
    "reduce(lambda x,y:x+y,lst)"
   ]
  },
  {
   "cell_type": "markdown",
   "id": "f0b90896-03c5-44fa-b515-09b2d882d0c2",
   "metadata": {},
   "source": [
    "2. Create a Python function that accepts a string and returns the reverse of that string."
   ]
  },
  {
   "cell_type": "code",
   "execution_count": 3,
   "id": "cc0da838-f128-49a7-9fc0-ff089b0526e9",
   "metadata": {},
   "outputs": [
    {
     "name": "stdout",
     "output_type": "stream",
     "text": [
      "ecneics atad\n"
     ]
    }
   ],
   "source": [
    "#solution 2 \n",
    "def rev_str(string):\n",
    "    print(string[::-1])\n",
    "rev_str(\"data science\")\n"
   ]
  },
  {
   "cell_type": "markdown",
   "id": "7101597f-3a67-422a-bbb3-a9b84c06d96e",
   "metadata": {},
   "source": [
    "3. Implement a Python function that takes a list of integers and returns a new list containing the squares of\n",
    "each number."
   ]
  },
  {
   "cell_type": "code",
   "execution_count": 5,
   "id": "32872b0c-bfce-4384-aca7-e0c85259f25e",
   "metadata": {},
   "outputs": [
    {
     "data": {
      "text/plain": [
       "[1, 4, 9, 16, 25, 36, 49, 64, 81]"
      ]
     },
     "execution_count": 5,
     "metadata": {},
     "output_type": "execute_result"
    }
   ],
   "source": [
    "l = [1,2,3,4,5,6,7,8,9]\n",
    "list(map(lambda x:x**2,l))"
   ]
  },
  {
   "cell_type": "markdown",
   "id": "d182369e-ce62-4297-87cb-2720bf009019",
   "metadata": {},
   "source": [
    "4. Write a Python function that checks if a given number is prime or not from 1 to 200."
   ]
  },
  {
   "cell_type": "code",
   "execution_count": 40,
   "id": "62cfeaf3-be04-4769-94c3-7c4830fd69a3",
   "metadata": {},
   "outputs": [
    {
     "name": "stdin",
     "output_type": "stream",
     "text": [
      "enter any number between 1 to 200:  23\n"
     ]
    },
    {
     "name": "stdout",
     "output_type": "stream",
     "text": [
      "23 is a prime number\n"
     ]
    }
   ],
   "source": [
    "def check_prime():\n",
    "    num = int(input(\"enter any number between 1 to 200: \"))\n",
    "    if 1<num<=200:\n",
    "        a = 0\n",
    "        for i in range(2,num):\n",
    "            if num%i == 0:\n",
    "                a +=1\n",
    "            else:\n",
    "                a +=0\n",
    "        if a>=1:\n",
    "            print(f\"{num} is not a prime number\")\n",
    "        else:\n",
    "            print(f\"{num} is a prime number\")\n",
    "    elif n==1:\n",
    "        print(f\"{num} is a prime number\")\n",
    "    else:\n",
    "        print(\"number is greater than 200,provide number less than 200\")\n",
    "check_prime()"
   ]
  },
  {
   "cell_type": "markdown",
   "id": "00ebd6f0-16cc-4004-98b5-106666ed9a06",
   "metadata": {},
   "source": [
    "5. Create an iterator class in Python that generates the Fibonacci sequence up to a specified number of\n",
    "terms.\n"
   ]
  },
  {
   "cell_type": "code",
   "execution_count": 46,
   "id": "d6f8fa61-dacc-490d-9c86-7d18567ab267",
   "metadata": {},
   "outputs": [
    {
     "data": {
      "text/plain": [
       "0"
      ]
     },
     "execution_count": 46,
     "metadata": {},
     "output_type": "execute_result"
    }
   ],
   "source": [
    "def fib(n):\n",
    "    a = 0 \n",
    "    b = 1\n",
    "    for i in range(n):\n",
    "        yield a\n",
    "        a, b = b, a+b\n",
    "a = fib(3)\n",
    "next(a)\n",
    "\n",
    "        "
   ]
  },
  {
   "cell_type": "code",
   "execution_count": 47,
   "id": "ae4f3a68-ee50-4c30-8a25-22ce558cac8b",
   "metadata": {},
   "outputs": [
    {
     "data": {
      "text/plain": [
       "1"
      ]
     },
     "execution_count": 47,
     "metadata": {},
     "output_type": "execute_result"
    }
   ],
   "source": [
    "next(a)\n"
   ]
  },
  {
   "cell_type": "code",
   "execution_count": 48,
   "id": "458a4881-39d7-4aff-a842-1dc2ae69b34f",
   "metadata": {},
   "outputs": [
    {
     "data": {
      "text/plain": [
       "1"
      ]
     },
     "execution_count": 48,
     "metadata": {},
     "output_type": "execute_result"
    }
   ],
   "source": [
    "next(a)\n"
   ]
  },
  {
   "cell_type": "markdown",
   "id": "061474bf-fd2d-4d40-8fff-bd70922103d6",
   "metadata": {},
   "source": [
    "6. Write a generator function in Python that yields the powers of 2 up to a given exponent."
   ]
  },
  {
   "cell_type": "code",
   "execution_count": 58,
   "id": "a6ba7561-a209-4e23-9645-d8d31ff49378",
   "metadata": {},
   "outputs": [
    {
     "data": {
      "text/plain": [
       "2"
      ]
     },
     "execution_count": 58,
     "metadata": {},
     "output_type": "execute_result"
    }
   ],
   "source": [
    "def power_2(n):\n",
    "    for i in range(1,n+1):\n",
    "        yield 2**i\n",
    "    \n",
    "p2 = power_2(4)\n",
    "next(p2)\n",
    "    "
   ]
  },
  {
   "cell_type": "code",
   "execution_count": 59,
   "id": "e2cfc0fa-badb-4882-aee4-64c546111cd9",
   "metadata": {},
   "outputs": [
    {
     "data": {
      "text/plain": [
       "4"
      ]
     },
     "execution_count": 59,
     "metadata": {},
     "output_type": "execute_result"
    }
   ],
   "source": [
    "next(p2)\n",
    "    "
   ]
  },
  {
   "cell_type": "code",
   "execution_count": 60,
   "id": "cc2c08b3-137f-4fc3-9907-2ab4141c74cc",
   "metadata": {},
   "outputs": [
    {
     "data": {
      "text/plain": [
       "8"
      ]
     },
     "execution_count": 60,
     "metadata": {},
     "output_type": "execute_result"
    }
   ],
   "source": [
    "next(p2)\n",
    "    "
   ]
  },
  {
   "cell_type": "code",
   "execution_count": 61,
   "id": "c43f535f-915b-4ae0-bb99-787da8cbbac8",
   "metadata": {},
   "outputs": [
    {
     "data": {
      "text/plain": [
       "16"
      ]
     },
     "execution_count": 61,
     "metadata": {},
     "output_type": "execute_result"
    }
   ],
   "source": [
    "next(p2)\n",
    "    "
   ]
  },
  {
   "cell_type": "markdown",
   "id": "1fde76e5-1a2f-48de-b876-20bda55185c7",
   "metadata": {},
   "source": [
    "7. Implement a generator function that reads a file line by line and yields each line as a string"
   ]
  },
  {
   "cell_type": "code",
   "execution_count": 24,
   "id": "2a006b6f-ff91-4fb3-9592-f06a0b80e3b3",
   "metadata": {},
   "outputs": [
    {
     "data": {
      "text/plain": [
       "'this is file for question only\\n'"
      ]
     },
     "execution_count": 24,
     "metadata": {},
     "output_type": "execute_result"
    }
   ],
   "source": [
    "#solution 7\n",
    "def read_file(file_name):\n",
    "    for row in open(file_name,\"r\"):\n",
    "        yield row\n",
    "rf = read_file(\"temp_file.txt\")\n",
    "next(rf)"
   ]
  },
  {
   "cell_type": "code",
   "execution_count": 25,
   "id": "43016b68-26a8-42bd-89c8-a21f93021f1d",
   "metadata": {},
   "outputs": [
    {
     "data": {
      "text/plain": [
       "'we will use this file to create a generator function\\n'"
      ]
     },
     "execution_count": 25,
     "metadata": {},
     "output_type": "execute_result"
    }
   ],
   "source": [
    "next(rf)"
   ]
  },
  {
   "cell_type": "code",
   "execution_count": 26,
   "id": "22bc451b-046c-4ab9-b9cc-1d2662eb9de9",
   "metadata": {},
   "outputs": [
    {
     "data": {
      "text/plain": [
       "'which will read its content line by line\\n'"
      ]
     },
     "execution_count": 26,
     "metadata": {},
     "output_type": "execute_result"
    }
   ],
   "source": [
    "next(rf)"
   ]
  },
  {
   "cell_type": "code",
   "execution_count": 27,
   "id": "59b2ca69-5a72-4ef5-b77d-e4e0a7f628da",
   "metadata": {},
   "outputs": [
    {
     "data": {
      "text/plain": [
       "'it is very interesting to solve such type of question'"
      ]
     },
     "execution_count": 27,
     "metadata": {},
     "output_type": "execute_result"
    }
   ],
   "source": [
    "next(rf)"
   ]
  },
  {
   "cell_type": "markdown",
   "id": "ebdcfb47-b961-4f3a-8966-d3ef9d206b08",
   "metadata": {},
   "source": [
    "8. Use a lambda function in Python to sort a list of tuples based on the second element of each tuple."
   ]
  },
  {
   "cell_type": "code",
   "execution_count": 67,
   "id": "9ec6542b-25f3-47d5-8c5d-7a167207f046",
   "metadata": {},
   "outputs": [
    {
     "data": {
      "text/plain": [
       "['data science', 'numpy', 'pwskills', 'python']"
      ]
     },
     "execution_count": 67,
     "metadata": {},
     "output_type": "execute_result"
    }
   ],
   "source": [
    "t = list((\"pwskills\",\"data science\",\"python\",\"numpy\"))\n",
    "t.sort(key = lambda x:x[1])\n",
    "t"
   ]
  },
  {
   "cell_type": "markdown",
   "id": "72b50f25-4aae-421e-8030-92d5acec9296",
   "metadata": {},
   "source": [
    "9. Write a Python program that uses `map()` to convert a list of temperatures from Celsius to Fahrenheit.\n"
   ]
  },
  {
   "cell_type": "code",
   "execution_count": 71,
   "id": "586299f8-1c9e-425e-870d-676fd89fba25",
   "metadata": {},
   "outputs": [
    {
     "data": {
      "text/plain": [
       "[89.6, 75.2, 96.8, 84.2, 104.0]"
      ]
     },
     "execution_count": 71,
     "metadata": {},
     "output_type": "execute_result"
    }
   ],
   "source": [
    "lst = [32,24,36,29,40]\n",
    "list(map(lambda C:(9/5)*C + 32 ,lst))"
   ]
  },
  {
   "cell_type": "markdown",
   "id": "afc6c575-713d-465e-b7bc-6f6afd3f9cf2",
   "metadata": {},
   "source": [
    "10. Create a Python program that uses `filter()` to remove all the vowels from a given string."
   ]
  },
  {
   "cell_type": "code",
   "execution_count": 96,
   "id": "f82df10b-c44c-4f63-89aa-5712aff8d4d4",
   "metadata": {},
   "outputs": [
    {
     "data": {
      "text/plain": [
       "'crs nm s dt scnc wth gnrtv ..'"
      ]
     },
     "execution_count": 96,
     "metadata": {},
     "output_type": "execute_result"
    }
   ],
   "source": [
    "string = \"course name is data science with generative A.I.\"\n",
    "string = string.lower()\n",
    "for x in filter(lambda x: x in (\"a\",\"e\",\"i\",\"o\",\"u\"),string):\n",
    "      string = string.replace(x,\"\")\n",
    "string\n",
    "\n",
    "\n",
    "        "
   ]
  },
  {
   "cell_type": "code",
   "execution_count": 1,
   "id": "b71aa11f-f87d-4c37-9f0f-ae092987c43f",
   "metadata": {},
   "outputs": [],
   "source": [
    "#there is printing mistake in 11th ques cant get what actually want to ask"
   ]
  },
  {
   "cell_type": "code",
   "execution_count": null,
   "id": "51ee2f26-0cd5-47f4-a16e-f8678f6233a9",
   "metadata": {},
   "outputs": [],
   "source": []
  }
 ],
 "metadata": {
  "kernelspec": {
   "display_name": "Python 3 (ipykernel)",
   "language": "python",
   "name": "python3"
  },
  "language_info": {
   "codemirror_mode": {
    "name": "ipython",
    "version": 3
   },
   "file_extension": ".py",
   "mimetype": "text/x-python",
   "name": "python",
   "nbconvert_exporter": "python",
   "pygments_lexer": "ipython3",
   "version": "3.10.8"
  }
 },
 "nbformat": 4,
 "nbformat_minor": 5
}
