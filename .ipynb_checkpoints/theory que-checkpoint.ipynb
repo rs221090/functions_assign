{
 "cells": [
  {
   "cell_type": "markdown",
   "id": "dbd1e4e6-d0b7-4ff8-90b4-e6348f0c4187",
   "metadata": {
    "tags": []
   },
   "source": [
    "#        THEORY QUESTIONS"
   ]
  },
  {
   "cell_type": "markdown",
   "id": "d4cab1ae-c02c-4729-bde6-754c1a46fe81",
   "metadata": {},
   "source": [
    "1. What is the difference between a function and a method in Python?"
   ]
  },
  {
   "cell_type": "code",
   "execution_count": null,
   "id": "0c383905-9a2c-4b86-be09-f4dbc5cef5cf",
   "metadata": {},
   "outputs": [],
   "source": [
    "solution 1\n",
    "difference between function and method\n",
    "1. functions are collection of lines of code that are reusable and used to accomplish a certain task\n",
    "where as methods are nothing but functions that are defined within a class\n",
    "\n",
    "2.Functions are not linked to anything but Methods are linked with the classes they are created in\n",
    "\n",
    "3.Functions can be executed just by calling with its name but\n",
    "to execute methods, we need to use either an object name or class name and a dot operator."
   ]
  },
  {
   "cell_type": "code",
   "execution_count": 1,
   "id": "69eb0592-937b-4546-b2ad-d6e79f9d5253",
   "metadata": {},
   "outputs": [
    {
     "data": {
      "text/plain": [
       "9"
      ]
     },
     "execution_count": 1,
     "metadata": {},
     "output_type": "execute_result"
    }
   ],
   "source": [
    "#examples of function\n",
    "s =(2,7)\n",
    "sum(s)   #sum is an inbuilt function\n"
   ]
  },
  {
   "cell_type": "code",
   "execution_count": 4,
   "id": "f1270982-4ea8-4ba7-a089-1af3dacb2f23",
   "metadata": {},
   "outputs": [
    {
     "data": {
      "text/plain": [
       "7"
      ]
     },
     "execution_count": 4,
     "metadata": {},
     "output_type": "execute_result"
    }
   ],
   "source": [
    "#example of method\n",
    "import math as m\n",
    "m.ceil(6.7)    #ceil() is an inbuilt method"
   ]
  },
  {
   "cell_type": "markdown",
   "id": "79be720f-b1a5-40cd-8e04-e2b621b9fdac",
   "metadata": {},
   "source": [
    "2. Explain the concept of function arguments and parameters in Python."
   ]
  },
  {
   "cell_type": "code",
   "execution_count": null,
   "id": "9d4d7891-c21f-4d76-8a36-fea1f7be1372",
   "metadata": {},
   "outputs": [],
   "source": [
    "solution 2\n",
    "parameters of function are the variable that are defined within the paranthese when the function is defined \n",
    "whereas argument is a value that is passed to a function when it is called "
   ]
  },
  {
   "cell_type": "code",
   "execution_count": 6,
   "id": "cff89568-4957-4375-a4c9-5cbc9a3a21d4",
   "metadata": {},
   "outputs": [
    {
     "name": "stdout",
     "output_type": "stream",
     "text": [
      "11\n"
     ]
    }
   ],
   "source": [
    "#example\n",
    "def add_num(a,b):   #here a and b are parameters\n",
    "    print(a+b)\n",
    "add_num(5,6)         #5 and 6 are argument"
   ]
  },
  {
   "cell_type": "markdown",
   "id": "94af9f05-8213-482a-902a-dd3ad0ce240c",
   "metadata": {},
   "source": [
    "3. What are the different ways to define and call a function in Python?"
   ]
  },
  {
   "cell_type": "code",
   "execution_count": null,
   "id": "266941bf-ec86-4e35-ae2c-637c808a48e1",
   "metadata": {},
   "outputs": [],
   "source": [
    "solution 3\n",
    "To define a function we use def keyword then write function name followed by paranthese and colon\n",
    "then give indent with tab and then mention what do you want from function to do\n",
    "\n",
    "syntax\n",
    "def function_name():\n",
    "    this code of block will executed\n",
    "    "
   ]
  },
  {
   "cell_type": "code",
   "execution_count": 1,
   "id": "c51224fd-c224-451d-86d7-6a87ee409473",
   "metadata": {},
   "outputs": [],
   "source": [
    "#example\n",
    "def course():\n",
    "    print(\"course name is data science with generative A.I.\")"
   ]
  },
  {
   "cell_type": "code",
   "execution_count": null,
   "id": "5a5d9882-1676-4bbf-a51e-d66848e986d6",
   "metadata": {},
   "outputs": [],
   "source": [
    "To call a function just write the name of function with paranthese"
   ]
  },
  {
   "cell_type": "code",
   "execution_count": 2,
   "id": "fc3ccd9c-fc15-4a56-8ab3-32fe0209574d",
   "metadata": {},
   "outputs": [
    {
     "name": "stdout",
     "output_type": "stream",
     "text": [
      "course name is data scientist with generative A.I.\n"
     ]
    }
   ],
   "source": [
    "#example\n",
    "course()"
   ]
  },
  {
   "cell_type": "markdown",
   "id": "d4a33aa5-6d29-4b41-ad12-ac3d7b81cf58",
   "metadata": {},
   "source": [
    "4. What is the purpose of the `return` statement in a Python function?"
   ]
  },
  {
   "cell_type": "code",
   "execution_count": null,
   "id": "a25f4dfd-2234-43a9-8992-9f93d2f1d4fa",
   "metadata": {},
   "outputs": [],
   "source": [
    "solution 4\n",
    "return statement in a python function ends the execution of function call and give the result to the caller\n",
    "statements after return statement in function are not executed and return can return data of any type.\n",
    "if return statement is without any statement then it will return none data type."
   ]
  },
  {
   "cell_type": "code",
   "execution_count": 8,
   "id": "ce59ba23-38b9-4f51-857f-5fbcf7900075",
   "metadata": {},
   "outputs": [
    {
     "data": {
      "text/plain": [
       "'pw skills  data science'"
      ]
     },
     "execution_count": 8,
     "metadata": {},
     "output_type": "execute_result"
    }
   ],
   "source": [
    "#example\n",
    "def course_name(a,b):\n",
    "    return a+b\n",
    "a = \"pw skills\"\n",
    "b = \"  data science\" \n",
    "course_name(a,b)"
   ]
  },
  {
   "cell_type": "markdown",
   "id": "0f6d2423-3e97-4d9d-bd33-f0d270019a77",
   "metadata": {},
   "source": [
    "5. What are iterators in Python and how do they differ from iterables?"
   ]
  },
  {
   "cell_type": "code",
   "execution_count": null,
   "id": "2091dc15-3eba-4ff7-aff7-73d7572eabb5",
   "metadata": {},
   "outputs": [],
   "source": [
    "solution 5\n",
    "iterable are objects which are capable of returning its element one by one using for loop\n",
    "i.e. that one can iterate over\n",
    "iterator is formed when iterable passed to iter()\n",
    "iterator makes iterable ready to be iterate\n",
    "every iterator is iterable but not every iterable is iterator\n",
    "\n",
    "example\n",
    "list is iterable but not iterator\n",
    "iter(list) is iterator"
   ]
  },
  {
   "cell_type": "markdown",
   "id": "95823c02-2256-40d5-895e-590b603e8f50",
   "metadata": {},
   "source": [
    "6. Explain the concept of generators in Python and how they are defined."
   ]
  },
  {
   "cell_type": "code",
   "execution_count": null,
   "id": "948ae2c6-bb24-4d9a-9294-e50dc3e3f2c3",
   "metadata": {},
   "outputs": [],
   "source": [
    "solution 6\n",
    "generator is a function which return an iterator using yield keyword\n",
    "generator function do not give result in one go as regular function do but give iterator which will give result when called\n",
    "using next funtion .in this way it will save more time and memory then regular function\n",
    "\n",
    "generator functions are defined exactly as regular function the only differnce is it uses yield instead of return statement"
   ]
  },
  {
   "cell_type": "code",
   "execution_count": 19,
   "id": "243beb63-509f-42ce-b516-c448229834ce",
   "metadata": {},
   "outputs": [
    {
     "data": {
      "text/plain": [
       "<generator object square_num at 0x7f75b41e43c0>"
      ]
     },
     "execution_count": 19,
     "metadata": {},
     "output_type": "execute_result"
    }
   ],
   "source": [
    "#example\n",
    "def square_num(l):\n",
    "    for n in l:\n",
    "        yield n**2\n",
    "a = square_num([1,2,3,4])\n",
    "a"
   ]
  },
  {
   "cell_type": "code",
   "execution_count": 20,
   "id": "7dd90d33-1001-4f65-a4a2-57712904307f",
   "metadata": {},
   "outputs": [
    {
     "data": {
      "text/plain": [
       "1"
      ]
     },
     "execution_count": 20,
     "metadata": {},
     "output_type": "execute_result"
    }
   ],
   "source": [
    "next(a)"
   ]
  },
  {
   "cell_type": "code",
   "execution_count": 21,
   "id": "0961405c-2319-4a7f-a10e-7944b97f853e",
   "metadata": {},
   "outputs": [
    {
     "data": {
      "text/plain": [
       "4"
      ]
     },
     "execution_count": 21,
     "metadata": {},
     "output_type": "execute_result"
    }
   ],
   "source": [
    "next(a)"
   ]
  },
  {
   "cell_type": "code",
   "execution_count": 22,
   "id": "36a5c50c-d29f-4023-80cb-378200951e6f",
   "metadata": {},
   "outputs": [
    {
     "data": {
      "text/plain": [
       "9"
      ]
     },
     "execution_count": 22,
     "metadata": {},
     "output_type": "execute_result"
    }
   ],
   "source": [
    "next(a)"
   ]
  },
  {
   "cell_type": "code",
   "execution_count": 23,
   "id": "af168ee5-7be1-4382-8218-db8070ad4ceb",
   "metadata": {},
   "outputs": [
    {
     "data": {
      "text/plain": [
       "16"
      ]
     },
     "execution_count": 23,
     "metadata": {},
     "output_type": "execute_result"
    }
   ],
   "source": [
    "next(a)"
   ]
  },
  {
   "cell_type": "markdown",
   "id": "874042d3-20d9-4d94-b930-3269df0d3bf0",
   "metadata": {},
   "source": [
    "7. What are the advantages of using generators over regular functions?"
   ]
  },
  {
   "cell_type": "code",
   "execution_count": null,
   "id": "7ee43bbe-6567-4c8b-8f9f-257b56a6ec69",
   "metadata": {},
   "outputs": [],
   "source": [
    "solution 7\n",
    "Advantage of generator over regular function >>> when we use regular function it will return result in one go which\n",
    "sometimes become time and memory consuming to overcome this we use generator function which is just like a \n",
    "regular function.it uses yield statement instead of return.return staement in regular function exit the function \n",
    "after giving result in one go \n",
    "whereas yield pause the function execution after giving value then allowing it resume where it left off\n",
    "generator function do not give result in one go but give iterator which give\n",
    "result step by step using next() function"
   ]
  },
  {
   "cell_type": "markdown",
   "id": "9dbafbbf-3e30-4342-87d1-802167938c9b",
   "metadata": {},
   "source": [
    "8. What is a lambda function in Python and when is it typically used?"
   ]
  },
  {
   "cell_type": "code",
   "execution_count": null,
   "id": "6c1d3fa8-0ab4-4dd5-b945-6841983762cc",
   "metadata": {},
   "outputs": [],
   "source": [
    "solution 8\n",
    "lambda function is anonymous function  that is it is a function without any name.it will take any number of argument but \n",
    "have only one expression.\n",
    "syntax\n",
    "lambda arguments : expression\n",
    "lambda function typically used when we need a function inside another function"
   ]
  },
  {
   "cell_type": "code",
   "execution_count": 8,
   "id": "fb8bac0a-9bd2-44d5-b9a7-7772edb17ca9",
   "metadata": {},
   "outputs": [
    {
     "data": {
      "text/plain": [
       "64"
      ]
     },
     "execution_count": 8,
     "metadata": {},
     "output_type": "execute_result"
    }
   ],
   "source": [
    "#example\n",
    "def func(n):\n",
    "    return lambda  a: a**n\n",
    "x = func(2)\n",
    "x(8)\n",
    "\n"
   ]
  },
  {
   "cell_type": "code",
   "execution_count": 11,
   "id": "9aff9195-0c4b-42ef-a042-a1ee53ebed75",
   "metadata": {},
   "outputs": [
    {
     "data": {
      "text/plain": [
       "[1, 4, 9, 16]"
      ]
     },
     "execution_count": 11,
     "metadata": {},
     "output_type": "execute_result"
    }
   ],
   "source": [
    "#inside map function\n",
    "list(map(lambda x:x**2,[1,2,3,4]))"
   ]
  },
  {
   "cell_type": "markdown",
   "id": "4b1db33d-31f1-4a82-9d02-5e134de44187",
   "metadata": {},
   "source": [
    "9. Explain the purpose and usage of the `map()` function in Python."
   ]
  },
  {
   "cell_type": "code",
   "execution_count": null,
   "id": "d2a579f9-745a-4f00-b80a-608746f985dc",
   "metadata": {},
   "outputs": [],
   "source": [
    "solution 9\n",
    "map() function execute specified function in an iterable.it act as an iterator and \n",
    "return the result by applying function on iterable.\n"
   ]
  },
  {
   "cell_type": "code",
   "execution_count": 13,
   "id": "60f614ae-c43d-4b72-8ef3-88e1b892318f",
   "metadata": {},
   "outputs": [
    {
     "data": {
      "text/plain": [
       "[1, 0, 1, 0, 1]"
      ]
     },
     "execution_count": 13,
     "metadata": {},
     "output_type": "execute_result"
    }
   ],
   "source": [
    "#examples\n",
    "l = [1,2,3,4,5]\n",
    "list(map(lambda x: x%2,l))"
   ]
  },
  {
   "cell_type": "markdown",
   "id": "8dfa7cfc-51ef-460d-8dbd-21f20c1b223e",
   "metadata": {},
   "source": [
    "10. What is the difference between `map()`, `reduce()`, and `filter()` functions in Python?"
   ]
  },
  {
   "cell_type": "code",
   "execution_count": null,
   "id": "84564d52-c839-4242-8cdd-206230f7c907",
   "metadata": {},
   "outputs": [],
   "source": [
    "solution 10\n",
    "map() function\n",
    "map() function execute specified function in an iterable.it act as an iterator and \n",
    "return the result by applying function on iterable.\n"
   ]
  },
  {
   "cell_type": "code",
   "execution_count": 15,
   "id": "5f0d2315-2a25-4c61-a864-974b919dc7de",
   "metadata": {},
   "outputs": [
    {
     "data": {
      "text/plain": [
       "[1, 4, 9, 16]"
      ]
     },
     "execution_count": 15,
     "metadata": {},
     "output_type": "execute_result"
    }
   ],
   "source": [
    "#example\n",
    "list(map(lambda x:x**2,[1,2,3,4]))"
   ]
  },
  {
   "cell_type": "code",
   "execution_count": null,
   "id": "87237b7e-bf03-4d15-963b-40f767716cea",
   "metadata": {},
   "outputs": [],
   "source": [
    "reduce() function\n",
    "it is a function of functool module\n",
    "reduce function is used to apply function with 2 arguments to the iterable\n",
    "it will return a single value after execution"
   ]
  },
  {
   "cell_type": "code",
   "execution_count": 20,
   "id": "1b3274be-16b6-4515-848f-d7d9a51e2472",
   "metadata": {},
   "outputs": [
    {
     "data": {
      "text/plain": [
       "35"
      ]
     },
     "execution_count": 20,
     "metadata": {},
     "output_type": "execute_result"
    }
   ],
   "source": [
    "#example\n",
    "from functools import reduce\n",
    "reduce(lambda x,y: x+y,[5,6,7,8,9])"
   ]
  },
  {
   "cell_type": "code",
   "execution_count": null,
   "id": "ce102101-d8ca-4a82-846c-ae46ab811145",
   "metadata": {},
   "outputs": [],
   "source": [
    "filter() function\n",
    "The filter() method filters the given sequence with the help of a function\n",
    "that tests each element in the sequence to be true or not and return the elements which satisfy the condition in given function"
   ]
  },
  {
   "cell_type": "code",
   "execution_count": 22,
   "id": "7227d8e3-9ebc-4681-8920-e5885885fc2a",
   "metadata": {},
   "outputs": [
    {
     "data": {
      "text/plain": [
       "[6, 4]"
      ]
     },
     "execution_count": 22,
     "metadata": {},
     "output_type": "execute_result"
    }
   ],
   "source": [
    "#example\n",
    "list(filter(lambda x:x%2 == 0,[7,5,9,6,4,3]))"
   ]
  },
  {
   "cell_type": "code",
   "execution_count": null,
   "id": "5518a755-251c-49c9-b020-61c6a91602fa",
   "metadata": {},
   "outputs": [],
   "source": []
  }
 ],
 "metadata": {
  "kernelspec": {
   "display_name": "Python 3 (ipykernel)",
   "language": "python",
   "name": "python3"
  },
  "language_info": {
   "codemirror_mode": {
    "name": "ipython",
    "version": 3
   },
   "file_extension": ".py",
   "mimetype": "text/x-python",
   "name": "python",
   "nbconvert_exporter": "python",
   "pygments_lexer": "ipython3",
   "version": "3.10.8"
  }
 },
 "nbformat": 4,
 "nbformat_minor": 5
}
